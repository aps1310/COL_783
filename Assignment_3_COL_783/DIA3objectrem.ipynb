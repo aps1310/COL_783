{
  "nbformat": 4,
  "nbformat_minor": 0,
  "metadata": {
    "colab": {
      "name": "DIA3objectrem.ipynb",
      "provenance": [],
      "collapsed_sections": []
    },
    "kernelspec": {
      "name": "python3",
      "display_name": "Python 3"
    },
    "language_info": {
      "name": "python"
    }
  },
  "cells": [
    {
      "cell_type": "code",
      "metadata": {
        "id": "l7u2f7I2Zw6d"
      },
      "source": [
        "import numpy as np\n",
        "import matplotlib.pyplot as plt\n",
        "import cv2\n",
        "from skimage import color\n",
        "from time import time\n",
        "from scipy import signal\n",
        "import imageio"
      ],
      "execution_count": null,
      "outputs": []
    },
    {
      "cell_type": "code",
      "metadata": {
        "id": "VGKWgXnvZ5E6"
      },
      "source": [
        "img = plt.imread('/content/drive/MyDrive/COL783/1024px-Broadway_tower_edit.jpg')"
      ],
      "execution_count": null,
      "outputs": []
    },
    {
      "cell_type": "code",
      "metadata": {
        "id": "g3waiuJHZ70z"
      },
      "source": [
        "plt.figure(figsize=(10,10))\n",
        "plt.imshow(img)\n",
        "plt.title('Original Image')"
      ],
      "execution_count": null,
      "outputs": []
    },
    {
      "cell_type": "code",
      "metadata": {
        "id": "FG5Tcxcea6j2"
      },
      "source": [
        "#computes the energy (gradient magnitude) of a given image\n",
        "def energyfunction(img): \n",
        "  img1 = np.copy(img)\n",
        "  img1 = color.rgb2gray(img1)\n",
        "  #finding the gradient in x and y dir\n",
        "  sobelx = cv2.Sobel(img1,cv2.CV_64F,1,0,ksize=5)\n",
        "  sobely = cv2.Sobel(img1,cv2.CV_64F,0,1,ksize=5)\n",
        "  #energy function\n",
        "  energy = abs(sobelx) + abs(sobely)\n",
        "  return energy\n",
        "\n",
        "#overlay the seam on the original image in red color\n",
        "def plotseam(img,paths,col):\n",
        "  img3 = np.copy(img)\n",
        "  for i in range(img.shape[0]):\n",
        "    indx = np.int(img.shape[0]-1-i)\n",
        "    img3[indx,col] = [255,0,0]\n",
        "    col = np.int(col + paths[indx,col] - 1)\n",
        "    \n",
        "  plt.figure(figsize=(10,10))\n",
        "  plt.title('Seam')\n",
        "  plt.imshow(img3)\n",
        "  plt.show()\n",
        "  return img3\n",
        "\n",
        "\n",
        "#find the seam using the energy of the image\n",
        "#function returns cumulative energy(dp) and\n",
        "#paths array to backtrack the seam\n",
        "def computeSeam(energy):\n",
        "  dp = np.copy(energy)\n",
        "  paths = np.zeros(dp.shape)\n",
        "  for i in range(1,dp.shape[0]):\n",
        "    for j in range(dp.shape[1]):\n",
        "      if (j>=1 and j+1<dp.shape[1]):\n",
        "        dp[i,j] = dp[i,j] + np.min([dp[i-1,j-1],dp[i-1,j],dp[i-1,j+1]])\n",
        "        paths[i,j] = np.int(np.argmin([dp[i-1,j-1],dp[i-1,j],dp[i-1,j+1]]))\n",
        "      elif (j+1>=dp.shape[1]):\n",
        "        dp[i,j] = dp[i,j] + np.min([dp[i-1,j-1],dp[i-1,j]])\n",
        "        paths[i,j] = np.int(np.argmin([dp[i-1,j-1],dp[i-1,j]]))\n",
        "      elif (j<1):\n",
        "        dp[i,j] = dp[i,j] + np.min([dp[i-1,j],dp[i-1,j+1]])\n",
        "        paths[i,j] = np.int(1 + np.argmin([dp[i-1,j],dp[i-1,j+1]]))\n",
        "        \n",
        "  return dp,paths"
      ],
      "execution_count": null,
      "outputs": []
    },
    {
      "cell_type": "code",
      "metadata": {
        "id": "KaFBKjAcbtqu"
      },
      "source": [
        "#remove the seam from the image, energy and mask\n",
        "def removeSeam(img,energy,mask):\n",
        "  dp,paths = computeSeam(energy)\n",
        "  #find min seam\n",
        "  col = np.int(np.argmin(dp[dp.shape[0]-1,:]))\n",
        "  #visulaizing the seam\n",
        "  img3 = plotseam(img,paths,col)\n",
        "  #img2 will store the image after the removal of the seam\n",
        "  img2 = np.zeros((img.shape[0],img.shape[1] - 1,3))\n",
        "\n",
        "  #remove the seam from mask as well as the energy function\n",
        "  mask1 = np.zeros((mask.shape[0],mask.shape[1]-1))\n",
        "  energy1 = np.zeros((energy.shape[0],energy.shape[1]-1))\n",
        "\n",
        "  for i in range(img2.shape[0]):\n",
        "    indx = np.int(img2.shape[0]-1-i)\n",
        "   #columns before the seam as it is cols after get shifted by one\n",
        "    if (col+1<img.shape[1]):\n",
        "      img2[indx][0:col] = img[indx][0:col]\n",
        "      img2[indx][col:] = img[indx][1+col:]\n",
        "      mask1[indx][:col] = mask[indx][:col]\n",
        "      mask1[indx][col:] = mask[indx][1+col:]\n",
        "      energy1[indx][0:col] = energy[indx][:col]\n",
        "      energy1[indx][col:] = energy[indx][1+col:]\n",
        "    else:\n",
        "      img2[indx] = img[indx,:col]\n",
        "      mask1[indx] = mask[indx,:col]\n",
        "      energy1[indx] = energy[indx,:col]\n",
        "\n",
        "    col = np.int(col + paths[indx,col] - 1)\n",
        "\n",
        "  print(\"Image size after seam removal: \",img2.shape[0],img2.shape[1])\n",
        "  #img2: contains image with object removed, img3 contains plotted seam\n",
        "  return img2.astype('uint8'), mask1.astype('int'),energy1.astype('int'),img3.astype('uint8')"
      ],
      "execution_count": null,
      "outputs": []
    },
    {
      "cell_type": "code",
      "metadata": {
        "id": "O2pNcUGVcai9"
      },
      "source": [
        "def removeObject(img,x1,y1,x2,y2):\n",
        "  img_list = []\n",
        "  #plot the object to be removed\n",
        "  plt.figure(figsize=(10,10))\n",
        "  plt.imshow(img[y1:y2,x1:x2])\n",
        "  plt.title('Object to be removed')\n",
        "  plt.show()\n",
        "  #bounding box\n",
        "  img1 = np.copy(img)\n",
        "  img1 = cv2.rectangle(img1,(x1,y1),(x2,y2),(255,0,0))\n",
        "  print(type(img1))\n",
        "  try:\n",
        "    img1 = cv2.UMat.get(img1)\n",
        "  except:\n",
        "    pass\n",
        "\n",
        "  plt.figure(figsize=(10,10))\n",
        "  plt.imshow(img1)\n",
        "  plt.title('Bounding box')\n",
        "  plt.show()\n",
        "  #create a mask of the object\n",
        "  mask = np.ones((img.shape[0],img.shape[1]))\n",
        "  mask[y1:y2,x1:x2] = 0\n",
        "\n",
        "  #compute the energy of the image\n",
        "  energy = energyfunction(img)\n",
        "\n",
        "  #to make all the seams pass through the object\n",
        "  #make the values negative inside the box\n",
        "  energy1 = energy*mask - 1000*(1-mask)*energy\n",
        "\n",
        "  #dimensions of the box\n",
        "  nx = np.abs(x2 - x1)\n",
        "  ny = np.abs(y2 - y1)\n",
        "\n",
        "  img1 = np.copy(img)\n",
        "  mask1 = np.copy(mask)\n",
        "  energy2 = np.copy(energy1)\n",
        "\n",
        "  #remove vertical seam\n",
        "  if (ny > 0.5*nx):\n",
        "    for i in range(nx):\n",
        "      print('Iteratio:',i)\n",
        "      img1,mask1,energy2,img3 = removeSeam(img1,energy2,mask1)\n",
        "      img_list.append(img1)\n",
        "      img_list.append(img3)\n",
        "  #remove horizontal seam\n",
        "  else:\n",
        "    #rotate the image,energy and mask\n",
        "    img1 = np.rot90(img1)\n",
        "    energy2 = np.rot90(energy2)\n",
        "    mask1 = np.rot90(mask1)\n",
        "    for i in range(ny):\n",
        "      print('Iteratio:',i)\n",
        "      img1,mask1,energy2,img3 = removeSeam(img1,energy2,mask1)\n",
        "    img1 = np.rot90(img1)\n",
        "    img1 = np.rot90(img1) \n",
        "    img1 = np.rot90(img1)\n",
        "    img3 = np.rot90(img3)\n",
        "    img3 = np.rot90(img3) \n",
        "    img3 = np.rot90(img3)\n",
        "\n",
        "    img_list.append(img1)\n",
        "    img_list.append(img3)  \n",
        "\n",
        "\n",
        "  plt.figure(figsize=(10,10))\n",
        "  plt.imshow(img1)\n",
        "  plt.title('Result')\n",
        "  return img1,img_list"
      ],
      "execution_count": null,
      "outputs": []
    },
    {
      "cell_type": "code",
      "metadata": {
        "id": "GWsGLoUA7FKQ"
      },
      "source": [
        "#insert seam\n",
        "def plotseam_insert(img,cols):\n",
        "  img1 = np.copy(img)\n",
        "  for i in range(img.shape[0]):\n",
        "    indx = img.shape[0] -1 - i\n",
        "    img1[indx,cols[i]] = [255,0,0]\n",
        "  #plt.imshow(img1)\n",
        "  #plt.show()\n",
        "  return img1\n",
        "\n",
        "def plotseam1(img,cols):\n",
        "  img1 = np.copy(img)\n",
        "  for i in range(img.shape[0]):\n",
        "    indx = img.shape[0] -1 - i\n",
        "    img1[indx,1+cols[i]] = [255,0,0]\n",
        "  #plt.imshow(img1)\n",
        "  #plt.show()\n",
        "  return img1\n",
        "\n",
        "def findSeam(energy):\n",
        "  dp = np.copy(energy)\n",
        "  paths = np.zeros(dp.shape)\n",
        "  for i in range(1,dp.shape[0]):\n",
        "    for j in range(dp.shape[1]):\n",
        "      if (j-1>=0 and j+1<dp.shape[1]):\n",
        "        dp[i,j] = dp[i,j] + np.min([dp[i-1,j-1],dp[i-1,j],dp[i-1,j+1]])\n",
        "        paths[i,j] = np.int(np.argmin([dp[i-1,j-1],dp[i-1,j],dp[i-1,j+1]]))\n",
        "      elif (j+1>=dp.shape[1]):\n",
        "        dp[i,j] = dp[i,j] + np.min([dp[i-1,j-1],dp[i-1,j]])\n",
        "        paths[i,j] = np.int(np.argmin([dp[i-1,j-1],dp[i-1,j]]))\n",
        "      elif (j-1<0):\n",
        "        dp[i,j] = dp[i,j] + np.min([dp[i-1,j],dp[i-1,j+1]])\n",
        "        paths[i,j] = np.int(1 + np.argmin([dp[i-1,j],dp[i-1,j+1]]))\n",
        "\n",
        "  #now we have cum energy, now we have to find the min seam\n",
        "  cols = []\n",
        "  col = np.argmin(dp[dp.shape[0]-1,:])\n",
        "  cols.append(col)\n",
        "  for i in range(dp.shape[0]-1):\n",
        "    indx = dp.shape[0] - 1 - i\n",
        "    col = np.int(col + paths[indx,col] - 1)\n",
        "    cols.append(col)\n",
        "\n",
        "  return cols\n",
        "\n",
        "def deleteseam(img,cols):\n",
        "  img1 = np.zeros((img.shape[0],img.shape[1]-1,3))\n",
        "  for i in range(img1.shape[0]):\n",
        "    indx = img1.shape[0] - 1 - i\n",
        "    col = cols[i]\n",
        "    img1[indx,:col] = img[indx,:col]\n",
        "    if (1+col < img.shape[1]):\n",
        "      img1[indx,col:] = img[indx,1+col:]\n",
        "  \n",
        "  return img1.astype('uint8')\n",
        "\n",
        "def insertseam(img,cols):\n",
        "  img1 = np.zeros((img.shape[0],img.shape[1]+1,3))\n",
        "  img = img.astype('float32')\n",
        "  img1 = img1.astype('float32')\n",
        "  for i in range(img.shape[0]):\n",
        "    indx = img.shape[0]-i-1\n",
        "    col = cols[i]\n",
        "    img1[indx,:1+col] = img[indx,:1+col]\n",
        "\n",
        "    if (col-1>=0 and col+1<img.shape[1]):\n",
        "      img1[indx,1+col,0] = np.int((img[indx,col-1][0] + img[indx,col+1,0])/2)\n",
        "      img1[indx,1+col,1] = np.int((img[indx,col-1][1] + img[indx,col+1,1])/2)\n",
        "      img1[indx,1+col,2] = np.int((img[indx,col-1][2] + img[indx,col+1,2])/2)\n",
        "    elif (col-1 < 0):\n",
        "      img1[indx,1+col] = img[indx,col+1]\n",
        "    elif (col+1 >= img.shape[1]):\n",
        "      img1[indx,1+col] = img[indx,col-1]\n",
        "    \n",
        "    if (1+col<img.shape[1]):\n",
        "      img1[indx,col+2:] = img[indx,col+1:]\n",
        "    \n",
        "  return img1.astype('uint8')\n",
        "\n",
        "\n",
        "def enlargevert(img,dy):\n",
        "  img_list_video = []\n",
        "  img1 = np.copy(img)\n",
        "  #add dy vertical seams\n",
        "  seam_list = []\n",
        "  #first find dy seams\n",
        "  #store the seams in seam_list\n",
        "  for i in range(dy):\n",
        "    energy = energyfunction(img1)\n",
        "    cols = findSeam(energy)\n",
        "    seam_list.append(cols)\n",
        "    img1 = deleteseam(img1,cols)  \n",
        "\n",
        "  #now insert seam\n",
        "  img2 = np.copy(img)\n",
        "  for i in range(dy):\n",
        "    img2 = insertseam(img2,seam_list[i])\n",
        "    img_list_video.append(img2)\n",
        "    img3 = plotseam_insert(img2,seam_list[i])\n",
        "    img_list_video.append(img3)\n",
        "\n",
        "    '''\n",
        "    print(img2.shape)\n",
        "    plt.imshow(img2)\n",
        "    plt.show()\n",
        "    plt.imshow(img3)\n",
        "    plt.show()\n",
        "    '''\n",
        "\n",
        "  img4 = np.copy(img2)\n",
        "  for i in range(dy):\n",
        "    img4 = plotseam1(img4,seam_list[i])\n",
        "  \n",
        "\n",
        "  return img2,img_list_video,img4\n",
        "\n",
        "def enlarge(img,dx,dy):\n",
        "  img_list = []\n",
        "  #add vertical seams\n",
        "  img1 = np.copy(img)\n",
        "  img2,images,seamimg = enlargevert(img1,dy)\n",
        "  img_list.append(images)\n",
        "\n",
        "  plt.figure(figsize=(10,10))\n",
        "  plt.title('Image with added seams')\n",
        "  plt.imshow(seamimg)\n",
        "  plt.show()\n",
        "\n",
        "  #add horizontal seams\n",
        "  img3 = np.copy(img2)\n",
        "  img3 = np.rot90(img3)\n",
        "  img4,images,seamimg = enlargevert(img3,dx)\n",
        "\n",
        "  seamimg = np.rot90(seamimg)\n",
        "  seamimg = np.rot90(seamimg)\n",
        "  seamimg = np.rot90(seamimg)\n",
        "\n",
        "  plt.figure(figsize=(10,10))\n",
        "  plt.title('Image with added seams')\n",
        "  plt.imshow(seamimg)\n",
        "  plt.show()\n",
        "\n",
        "  img4 = np.rot90(img4)\n",
        "  img4 = np.rot90(img4) \n",
        "  img4 = np.rot90(img4)\n",
        "\n",
        "  img_list.append(images)\n",
        "\n",
        "  return img4.astype('uint8'),img_list\n",
        "\n"
      ],
      "execution_count": null,
      "outputs": []
    },
    {
      "cell_type": "code",
      "metadata": {
        "id": "2wF_IIYLrb-E"
      },
      "source": [
        "#experiment1\n",
        "img1 = np.copy(img)\n",
        "plt.title('Original Imgae')\n",
        "plt.imshow(img1)"
      ],
      "execution_count": null,
      "outputs": []
    },
    {
      "cell_type": "code",
      "metadata": {
        "id": "VSdqSLUOrvly"
      },
      "source": [
        "#bounding box\n",
        "x1,y1 = [80,520]\n",
        "x2,y2 = [110,580]\n",
        "img2 = np.copy(img1)\n",
        "img2 = cv2.rectangle(img2,(x1,y1),(x2,y2),(255,0,0))\n",
        "plt.figure(figsize=(10,10))\n",
        "plt.imshow(img2)\n",
        "plt.title('Bounding box')"
      ],
      "execution_count": null,
      "outputs": []
    },
    {
      "cell_type": "code",
      "metadata": {
        "id": "aZoVBayCsX46"
      },
      "source": [
        "#remove the object\n",
        "img1 = np.copy(img)\n",
        "img2,img_list1 = removeObject(img1,x1,y1,x2,y2)"
      ],
      "execution_count": null,
      "outputs": []
    },
    {
      "cell_type": "code",
      "metadata": {
        "id": "NhHeWSmjvhCZ"
      },
      "source": [
        "for i in range(len(img_list1)):\n",
        "  plt.imshow(img_list1[i])\n",
        "  plt.show()"
      ],
      "execution_count": null,
      "outputs": []
    },
    {
      "cell_type": "code",
      "metadata": {
        "id": "FtAyoux8stiE"
      },
      "source": [
        "#inserting seams to make the object the same size\n",
        "#insert seams\n",
        "dx = x2 - x1\n",
        "dy = y2 - y1\n",
        "print(dx,dy)\n",
        "if (dy > dx):\n",
        "  img3,img_list2 = enlarge(img2,0,dx)\n",
        "else:\n",
        "  img3,img_list2 = enlarge(img2,dy,0)"
      ],
      "execution_count": null,
      "outputs": []
    },
    {
      "cell_type": "code",
      "metadata": {
        "id": "zkiqG_lBtGTP"
      },
      "source": [
        "plt.figure(figsize=(20,20))\n",
        "plt.subplot(1,2,1)\n",
        "plt.imshow(img)\n",
        "plt.title('Original Image')\n",
        "plt.subplot(1,2,2)\n",
        "plt.imshow(img3)\n",
        "plt.title('Image after removing object')\n",
        "print('The shape of original image: ',img.shape)\n",
        "print('The shape of the result: ',img3.shape)"
      ],
      "execution_count": null,
      "outputs": []
    },
    {
      "cell_type": "code",
      "metadata": {
        "id": "L4TsbQlXK-D_"
      },
      "source": [
        "plt.figure(figsize=(20,20))\n",
        "plt.subplot(1,2,1)\n",
        "plt.imshow(img)\n",
        "plt.title('Original Image')\n",
        "plt.subplot(1,2,2)\n",
        "plt.imshow(img3)\n",
        "plt.title('Image after removing object')\n",
        "print('The shape of original image: ',img.shape)\n",
        "print('The shape of the result: ',img3.shape)"
      ],
      "execution_count": null,
      "outputs": []
    },
    {
      "cell_type": "code",
      "metadata": {
        "id": "MWrwRi7lwH4u"
      },
      "source": [
        "print('Image list 0')\n",
        "image_list = []\n",
        "for i in range(len(img_list1[0])):\n",
        "  image_list\n",
        "  plt.imshow(img_list2[0][i])\n",
        "  plt.show()\n",
        "\n",
        "print(\"Image list 1\")\n",
        "for i in range(len(img_list2[0])):\n",
        "  plt.imshow(img_list2[1][i])\n",
        "  plt.show()\n",
        "print('Image list 1 part 2')\n",
        "for i in range(len(img_list2[1])):\n",
        "  plt.imshow(img_list2[1][i])\n",
        "  plt.show()"
      ],
      "execution_count": null,
      "outputs": []
    },
    {
      "cell_type": "code",
      "metadata": {
        "id": "r8IcBw0Rn4xO"
      },
      "source": [
        "#create gif\n",
        "list1 = img_list1\n",
        "list2 = img_list2[0]\n",
        "#list3 = img_list2[1]\n",
        "list1.extend(list2)\n",
        "#list1.extend(list3)\n",
        "imageio.mimsave('objrem1.gif',list1)"
      ],
      "execution_count": null,
      "outputs": []
    },
    {
      "cell_type": "code",
      "metadata": {
        "id": "wOSPnIkZ966j"
      },
      "source": [
        "#experiment 2\n",
        "img6 = plt.imread('/content/drive/MyDrive/COL783/image6.jpg')\n",
        "plt.imshow(img6)\n",
        "plt.title('Original Image')"
      ],
      "execution_count": null,
      "outputs": []
    },
    {
      "cell_type": "code",
      "metadata": {
        "id": "TOsstTcV_2bl"
      },
      "source": [
        "#bounding box\n",
        "x1,y1 = [344,232]\n",
        "x2,y2 = [410,285]\n",
        "img1 = np.copy(img6)\n",
        "img1 = cv2.rectangle(img1,(x1,y1),(x2,y2),(255,0,0))\n",
        "plt.figure(figsize=(10,10))\n",
        "plt.imshow(img1)\n",
        "plt.title('Bounding box')"
      ],
      "execution_count": null,
      "outputs": []
    },
    {
      "cell_type": "code",
      "metadata": {
        "id": "PG3blav3AeUs"
      },
      "source": [
        "#remove object\n",
        "img1 = np.copy(img6)\n",
        "img2,img2_list1 = removeObject(img1,x1,y1,x2,y2)"
      ],
      "execution_count": null,
      "outputs": []
    },
    {
      "cell_type": "code",
      "metadata": {
        "id": "Vz7sk0eaBSra"
      },
      "source": [
        "#insert seams\n",
        "dx = x2 - x1\n",
        "dy = y2 - y1\n",
        "print(dx,dy)\n",
        "if (dy > 0.5*dx):\n",
        "  img3,img2_list2 = enlarge(img2,0,dx)\n",
        "else:\n",
        "  img3,img2_list2 = enlarge(img2,dy,0)"
      ],
      "execution_count": null,
      "outputs": []
    },
    {
      "cell_type": "code",
      "metadata": {
        "id": "SNou4k5_qrTR"
      },
      "source": [
        "plt.figure(figsize=(15,15))\n",
        "plt.subplot(1,2,1)\n",
        "plt.imshow(img6)\n",
        "plt.title('Original Image')\n",
        "plt.subplot(1,2,2)\n",
        "plt.imshow(img3)\n",
        "plt.title('Image after removing object')\n",
        "print('The shape of original image: ',img6.shape)\n",
        "print('The shape of the result: ',img3.shape)"
      ],
      "execution_count": null,
      "outputs": []
    },
    {
      "cell_type": "code",
      "metadata": {
        "id": "ibV31gKLrNpo"
      },
      "source": [
        "#create gif\n",
        "list1 = img2_list1\n",
        "list2 = img2_list2[0]\n",
        "#list3 = img_list2[1]\n",
        "list1.extend(list2)\n",
        "#list1.extend(list3)\n",
        "imageio.mimsave('objrem2.gif',list1)"
      ],
      "execution_count": null,
      "outputs": []
    },
    {
      "cell_type": "code",
      "metadata": {
        "id": "rICtluQxZ2s2"
      },
      "source": [
        ""
      ],
      "execution_count": null,
      "outputs": []
    }
  ]
}