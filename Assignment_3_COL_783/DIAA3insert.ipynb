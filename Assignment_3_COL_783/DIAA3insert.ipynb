{
  "nbformat": 4,
  "nbformat_minor": 0,
  "metadata": {
    "colab": {
      "name": "DIAA3insert.ipynb",
      "provenance": [],
      "collapsed_sections": []
    },
    "kernelspec": {
      "name": "python3",
      "display_name": "Python 3"
    },
    "language_info": {
      "name": "python"
    }
  },
  "cells": [
    {
      "cell_type": "code",
      "metadata": {
        "id": "RpYjMAObPA8_"
      },
      "source": [
        "import numpy as np\n",
        "import matplotlib.pyplot as plt\n",
        "import cv2\n",
        "from skimage import color\n",
        "from time import time\n",
        "from scipy import signal\n",
        "import imageio"
      ],
      "execution_count": null,
      "outputs": []
    },
    {
      "cell_type": "code",
      "metadata": {
        "id": "uwVsbUWgPINz"
      },
      "source": [
        "img = plt.imread('/content/drive/MyDrive/COL783/1024px-Broadway_tower_edit.jpg')"
      ],
      "execution_count": null,
      "outputs": []
    },
    {
      "cell_type": "code",
      "metadata": {
        "id": "glr_KvkqPKOa"
      },
      "source": [
        "plt.imshow(img)"
      ],
      "execution_count": null,
      "outputs": []
    },
    {
      "cell_type": "code",
      "metadata": {
        "id": "azrc30sLPLmC"
      },
      "source": [
        "def energyfunction(img): \n",
        "  img1 = np.copy(img)\n",
        "  img1 = color.rgb2gray(img1)\n",
        "  #finding the gradient in x and y dir\n",
        "  sobelx = cv2.Sobel(img1,cv2.CV_64F,1,0,ksize=5)\n",
        "  sobely = cv2.Sobel(img1,cv2.CV_64F,0,1,ksize=5)\n",
        "  #energy function\n",
        "  energy = abs(sobelx) + abs(sobely)\n",
        "  return energy\n",
        "\n",
        "def plotseam(img,cols):\n",
        "  img1 = np.copy(img)\n",
        "  for i in range(img.shape[0]):\n",
        "    indx = img.shape[0] -1 - i\n",
        "    img1[indx,cols[i]] = [255,0,0]\n",
        "  #plt.imshow(img1)\n",
        "  #plt.show()\n",
        "  return img1\n",
        "\n",
        "def plotseam1(img,cols):\n",
        "  img1 = np.copy(img)\n",
        "  for i in range(img.shape[0]):\n",
        "    indx = img.shape[0] -1 - i\n",
        "    img1[indx,1+cols[i]] = [255,0,0]\n",
        "  #plt.imshow(img1)\n",
        "  #plt.show()\n",
        "  return img1\n",
        "\n",
        "def findSeam(energy):\n",
        "  dp = np.copy(energy)\n",
        "  paths = np.zeros(dp.shape)\n",
        "  for i in range(1,dp.shape[0]):\n",
        "    for j in range(dp.shape[1]):\n",
        "      if (j>=1 and j+1<dp.shape[1]):\n",
        "        dp[i,j] = dp[i,j] + np.min([dp[i-1,j-1],dp[i-1,j],dp[i-1,j+1]])\n",
        "        paths[i,j] = np.int(np.argmin([dp[i-1,j-1],dp[i-1,j],dp[i-1,j+1]]))\n",
        "      elif (j+1>=dp.shape[1]):\n",
        "        dp[i,j] = dp[i,j] + np.min([dp[i-1,j-1],dp[i-1,j]])\n",
        "        paths[i,j] = np.int(np.argmin([dp[i-1,j-1],dp[i-1,j]]))\n",
        "      elif (j<1):\n",
        "        dp[i,j] = dp[i,j] + np.min([dp[i-1,j],dp[i-1,j+1]])\n",
        "        paths[i,j] = np.int(1 + np.argmin([dp[i-1,j],dp[i-1,j+1]]))\n",
        "\n",
        "  #now we have cum energy, now we have to find the min seam\n",
        "  cols = []\n",
        "  col = np.argmin(dp[dp.shape[0]-1,:])\n",
        "  cols.append(col)\n",
        "  for i in range(dp.shape[0]-1):\n",
        "    indx = dp.shape[0] - 1 - i\n",
        "    col = np.int(col + paths[indx,col] - 1)\n",
        "    cols.append(col)\n",
        "\n",
        "  return cols\n",
        "\n",
        "def deleteseam(img,cols):\n",
        "  img1 = np.zeros((img.shape[0],img.shape[1]-1,3))\n",
        "  for i in range(img1.shape[0]):\n",
        "    indx = img1.shape[0] - 1 - i\n",
        "    col = cols[i]\n",
        "    img1[indx,:col] = img[indx,:col]\n",
        "    if (1+col < img.shape[1]):\n",
        "      img1[indx,col:] = img[indx,1+col:]\n",
        "  \n",
        "  return img1.astype('uint8')\n",
        "\n",
        "def insertseam(img,cols):\n",
        "  img1 = np.zeros((img.shape[0],img.shape[1]+1,3))\n",
        "  img = img.astype('float32')\n",
        "  img1 = img1.astype('float32')\n",
        "  for i in range(img.shape[0]):\n",
        "    indx = img.shape[0]-i-1\n",
        "    col = cols[i]\n",
        "    img1[indx,:1+col] = img[indx,:1+col]\n",
        "\n",
        "    if (col-1>=0 and col+1<img.shape[1]):\n",
        "      img1[indx,1+col,0] = np.int((img[indx,col-1][0] + img[indx,col+1,0])/2)\n",
        "      img1[indx,1+col,1] = np.int((img[indx,col-1][1] + img[indx,col+1,1])/2)\n",
        "      img1[indx,1+col,2] = np.int((img[indx,col-1][2] + img[indx,col+1,2])/2)\n",
        "    elif (col-1 < 0):\n",
        "      img1[indx,1+col] = img[indx,col+1]\n",
        "    elif (col+1 >= img.shape[1]):\n",
        "      img1[indx,1+col] = img[indx,col-1]\n",
        "    \n",
        "    if (1+col<img.shape[1]):\n",
        "      img1[indx,col+2:] = img[indx,col+1:]\n",
        "    \n",
        "  return img1.astype('uint8')"
      ],
      "execution_count": null,
      "outputs": []
    },
    {
      "cell_type": "code",
      "metadata": {
        "id": "xpECsM5yRHCO"
      },
      "source": [
        "def enlargevert(img,dy):\n",
        "  img_list_video = []\n",
        "  img1 = np.copy(img)\n",
        "  #add dy vertical seams\n",
        "  seam_list = []\n",
        "  #first find dy seams\n",
        "  #store the seams in seam_list\n",
        "  for i in range(dy):\n",
        "    energy = energyfunction(img1)\n",
        "    cols = findSeam(energy)\n",
        "    seam_list.append(cols)\n",
        "    img1 = deleteseam(img1,cols)  \n",
        "\n",
        "  #now insert seam\n",
        "  img2 = np.copy(img)\n",
        "  for i in range(dy):\n",
        "    img2 = insertseam(img2,seam_list[i])\n",
        "    img_list_video.append(img2)\n",
        "    img3 = plotseam(img2,seam_list[i])\n",
        "    img_list_video.append(img3)\n",
        "\n",
        "    '''\n",
        "    print(img2.shape)\n",
        "    plt.imshow(img2)\n",
        "    plt.show()\n",
        "    plt.imshow(img3)\n",
        "    plt.show()\n",
        "    '''\n",
        "\n",
        "  img4 = np.copy(img2)\n",
        "  for i in range(dy):\n",
        "    img4 = plotseam1(img4,seam_list[i])\n",
        "  \n",
        "\n",
        "  return img2,img_list_video,img4\n"
      ],
      "execution_count": null,
      "outputs": []
    },
    {
      "cell_type": "code",
      "metadata": {
        "id": "wL6Gs2vJWrP_"
      },
      "source": [
        "def enlarge(img,dx,dy):\n",
        "  img_list = []\n",
        "  #add vertical seams\n",
        "  img1 = np.copy(img)\n",
        "  img2,images,seamimg = enlargevert(img1,dy)\n",
        "  img_list.append(images)\n",
        "\n",
        "  plt.figure(figsize=(10,10))\n",
        "  plt.title('Image with added seams')\n",
        "  plt.imshow(seamimg)\n",
        "  plt.show()\n",
        "\n",
        "  #add horizontal seams\n",
        "  img3 = np.copy(img2)\n",
        "  img3 = np.rot90(img3)\n",
        "  img4,images,seamimg = enlargevert(img3,dx)\n",
        "\n",
        "  seamimg = np.rot90(seamimg)\n",
        "  seamimg = np.rot90(seamimg)\n",
        "  seamimg = np.rot90(seamimg)\n",
        "\n",
        "  plt.figure(figsize=(10,10))\n",
        "  plt.title('Image with added seams')\n",
        "  plt.imshow(seamimg)\n",
        "  plt.show()\n",
        "\n",
        "  img4 = np.rot90(img4)\n",
        "  img4 = np.rot90(img4) \n",
        "  img4 = np.rot90(img4)\n",
        "\n",
        "  img_list.append(images)\n",
        "\n",
        "  return img4,img_list\n",
        "\n"
      ],
      "execution_count": null,
      "outputs": []
    },
    {
      "cell_type": "code",
      "metadata": {
        "id": "zvakpFSeF8c9"
      },
      "source": [
        "img1 = np.copy(img)\n",
        "start = time()\n",
        "img2,img_list = enlarge(img1,20,20)\n",
        "end = time()\n",
        "print('Time elapses for normal method: ',(end - start)/60,'minutes')"
      ],
      "execution_count": null,
      "outputs": []
    },
    {
      "cell_type": "code",
      "metadata": {
        "id": "aConHB98Gk0c"
      },
      "source": [
        "plt.imshow(img2)\n",
        "print(img2.shape)"
      ],
      "execution_count": null,
      "outputs": []
    },
    {
      "cell_type": "code",
      "metadata": {
        "id": "h0LaAkevNZEg"
      },
      "source": [
        "#for video\n",
        "dx = 2\n",
        "dy = 2\n",
        "image_list = []\n",
        "for i in range(len(img_list[0])):\n",
        "    image_list.append(img_list[0][i])\n",
        "    plt.imshow(img_list[0][i])\n",
        "    plt.show()"
      ],
      "execution_count": null,
      "outputs": []
    },
    {
      "cell_type": "code",
      "metadata": {
        "id": "nklLMzpcTVAg"
      },
      "source": [
        "for i in range(len(img_list[1])):\n",
        "  im1 = img_list[1][i]\n",
        "  im1 = np.rot90(im1)\n",
        "  im1 = np.rot90(im1)\n",
        "  im1 = np.rot90(im1)\n",
        "  image_list.append(im1)\n",
        "  plt.imshow(im1)\n",
        "  plt.show()"
      ],
      "execution_count": null,
      "outputs": []
    },
    {
      "cell_type": "code",
      "metadata": {
        "id": "FxTtorjpeXMV"
      },
      "source": [
        "imageio.mimsave('seam_enlarge.gif',image_list)"
      ],
      "execution_count": null,
      "outputs": []
    },
    {
      "cell_type": "code",
      "metadata": {
        "id": "4e-e8DOtMEgd"
      },
      "source": [
        "#enlarge \n",
        "#3  horizontal seam\n",
        "dx = 5\n",
        "#2 vertical seams\n",
        "dy = 2\n",
        "print(dx,dy)"
      ],
      "execution_count": null,
      "outputs": []
    },
    {
      "cell_type": "code",
      "metadata": {
        "id": "jUaeQuxgX7O1"
      },
      "source": [
        "#fast seam\n",
        "start = time()\n",
        "!python3 \"/content/drive/MyDrive/COL783/main.py\" 20 20\n",
        "end = time()\n",
        "print('Time elapsed for fast seam: ',end - start,'seconds')"
      ],
      "execution_count": null,
      "outputs": []
    },
    {
      "cell_type": "code",
      "metadata": {
        "id": "ZmJwXOgiLoVq"
      },
      "source": [
        "result = plt.imread('/content/drive/MyDrive/COL783/fastseamenlarge.jpg')\n",
        "plt.figure(figsize=(10,10))\n",
        "plt.imshow(result)\n",
        "print('The size of the image: ',result.shape)"
      ],
      "execution_count": null,
      "outputs": []
    },
    {
      "cell_type": "code",
      "metadata": {
        "id": "n2vZYeXkMvZM"
      },
      "source": [
        ""
      ],
      "execution_count": null,
      "outputs": []
    }
  ]
}