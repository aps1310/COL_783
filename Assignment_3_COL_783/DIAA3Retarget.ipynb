{
  "nbformat": 4,
  "nbformat_minor": 0,
  "metadata": {
    "colab": {
      "name": "DIAA3Retarget.ipynb",
      "provenance": []
    },
    "kernelspec": {
      "name": "python3",
      "display_name": "Python 3"
    },
    "language_info": {
      "name": "python"
    }
  },
  "cells": [
    {
      "cell_type": "code",
      "metadata": {
        "id": "HUum7Jzo8eSf"
      },
      "source": [
        "import numpy as np\n",
        "import matplotlib.pyplot as plt\n",
        "import cv2\n",
        "from skimage import color\n",
        "from time import time\n",
        "from scipy import signal\n",
        "from tqdm.autonotebook import tqdm\n",
        "import copy\n",
        "import imageio"
      ],
      "execution_count": null,
      "outputs": []
    },
    {
      "cell_type": "code",
      "metadata": {
        "id": "Of65_TeO8oDU"
      },
      "source": [
        "img = plt.imread('/content/drive/MyDrive/COL783/1024px-Broadway_tower_edit.jpg')"
      ],
      "execution_count": null,
      "outputs": []
    },
    {
      "cell_type": "code",
      "metadata": {
        "id": "v55RAAbl8vVY"
      },
      "source": [
        "plt.imshow(img)\n",
        "plt.title('Original Image')"
      ],
      "execution_count": null,
      "outputs": []
    },
    {
      "cell_type": "code",
      "metadata": {
        "id": "Vs3m5wKq0LGS"
      },
      "source": [
        "print(img.shape)"
      ],
      "execution_count": null,
      "outputs": []
    },
    {
      "cell_type": "code",
      "metadata": {
        "id": "OSPtVg4N8_1M"
      },
      "source": [
        "def energyfunction(img): \n",
        "  img1 = np.copy(img)\n",
        "  img1 = color.rgb2gray(img1)\n",
        "  #finding the gradient in x and y dir\n",
        "  sobelx = cv2.Sobel(img1,cv2.CV_64F,1,0,ksize=5)\n",
        "  sobely = cv2.Sobel(img1,cv2.CV_64F,0,1,ksize=5)\n",
        "  #energy function\n",
        "  energy = abs(sobelx) + abs(sobely)\n",
        "  return energy\n",
        "\n",
        "def computeSeam(energy):\n",
        "  dp = np.copy(energy)\n",
        "  paths = np.zeros(dp.shape)\n",
        "  for i in range(1,dp.shape[0]):\n",
        "    for j in range(dp.shape[1]):\n",
        "      if (j>=1 and j+1<dp.shape[1]):\n",
        "        dp[i,j] = dp[i,j] + np.min([dp[i-1,j-1],dp[i-1,j],dp[i-1,j+1]])\n",
        "        paths[i,j] = np.int(np.argmin([dp[i-1,j-1],dp[i-1,j],dp[i-1,j+1]]))\n",
        "      elif (j+1>=dp.shape[1]):\n",
        "        dp[i,j] = dp[i,j] + np.min([dp[i-1,j-1],dp[i-1,j]])\n",
        "        paths[i,j] = np.int(np.argmin([dp[i-1,j-1],dp[i-1,j]]))\n",
        "      elif (j<1):\n",
        "        dp[i,j] = dp[i,j] + np.min([dp[i-1,j],dp[i-1,j+1]])\n",
        "        paths[i,j] = np.int(1 + np.argmin([dp[i-1,j],dp[i-1,j+1]]))\n",
        "        \n",
        "  return dp,paths\n",
        "\n",
        "def plotseam(img,paths,col):\n",
        "  img3 = np.copy(img)\n",
        "  for i in range(img.shape[0]):\n",
        "    indx = np.int(img.shape[0]-1-i)\n",
        "    img3[indx,col] = [255,0,0]\n",
        "    col = np.int(col + paths[indx,col] - 1)\n",
        "    \n",
        "  plt.figure(figsize=(10,10))\n",
        "  plt.title('Seam')\n",
        "  plt.imshow(img3)\n",
        "  plt.show()\n",
        "  return img3\n",
        "\n",
        "def removeSeam(img):\n",
        "  #first compute the energy function\n",
        "  energy = energyfunction(img)\n",
        "  #visualize the energy function\n",
        "  plt.figure(figsize=(10,10))\n",
        "  plt.imshow(energy,cmap='gray')\n",
        "  plt.title('Energy Function')\n",
        "  plt.show()\n",
        "  #dynamic programming algorithm to calculate cum energy\n",
        "  dp,paths = computeSeam(energy)\n",
        "  #find min seam\n",
        "  col = np.int(np.argmin(dp[dp.shape[0]-1,:]))\n",
        "  #visulaizing the seam\n",
        "  img3 = plotseam(img,paths,col)\n",
        "  #img2 will store the image after the removal of the seam\n",
        "  img2 = np.zeros((img.shape[0],img.shape[1] - 1,3))\n",
        "\n",
        "  for i in range(img2.shape[0]):\n",
        "    indx = np.int(img2.shape[0]-1-i)\n",
        "    if (col+1<img.shape[1]):\n",
        "      img2[indx][0:col] = img[indx][0:col]\n",
        "      img2[indx][col:] = img[indx][1+col:]\n",
        "    else:\n",
        "      img2[indx] = img[indx,:col]\n",
        "    col = np.int(col + paths[indx,col] - 1)\n",
        "\n",
        "  print(\"Image size after seam removal: \",img2.shape[0],img2.shape[1])\n",
        "  return img2.astype('uint8'),img3.astype('uint8')"
      ],
      "execution_count": null,
      "outputs": []
    },
    {
      "cell_type": "code",
      "metadata": {
        "id": "MXzcYqrJjDEw"
      },
      "source": [
        "#make image dimensions n1 and m1\n",
        "def retarget(n1,m1,img):\n",
        "  image_list = []\n",
        "  print(type(img))\n",
        "  print('The size of the original image: ',img.shape[0],img.shape[1])\n",
        "  n = img.shape[0]  \n",
        "  m = img.shape[1]\n",
        "  c = n - n1\n",
        "  r = m - m1\n",
        "  print('Number of vertical seam removal: ',c)\n",
        "  print('Number of horizontal seam removal: ',r)\n",
        "  img1 = np.copy(img)\n",
        "  #remove the vertical seams\n",
        "  print('Removing vertical seams')\n",
        "  for i in tqdm(range(r)):\n",
        "    print('Iteration: ',i)\n",
        "    img1,img3 = removeSeam(img1)\n",
        "    image_list.append(img1)\n",
        "    image_list.append(img3)\n",
        "\n",
        "  img2 = np.copy(img1)\n",
        "  img2 = np.rot90(img2)\n",
        "  print('Removing Horizontal seams')\n",
        "  for j in tqdm(range(c)):\n",
        "    img2,img3 = removeSeam(img2)\n",
        "    image_list.append(img2)\n",
        "    image_list.append(img3)\n",
        "\n",
        "  img2 = np.rot90(img2)\n",
        "  img2 = np.rot90(img2)\n",
        "  img2 = np.rot90(img2)\n",
        "\n",
        "  print('The size of the image is: ',img2.shape[0],img2.shape[1])\n",
        "  plt.figure(figsize=(10,10))\n",
        "  plt.imshow(img2)\n",
        "  plt.show()\n",
        "  return img2,image_list\n"
      ],
      "execution_count": null,
      "outputs": []
    },
    {
      "cell_type": "code",
      "metadata": {
        "id": "tCNO00ZzjrS7"
      },
      "source": [
        "img1 = np.copy(img)\n",
        "start = time()\n",
        "img2,image_list = retarget(674,1004,img1)\n",
        "end = time()\n",
        "print('The time elapsed in normal method: ',(end - start)/60,' minutes')"
      ],
      "execution_count": null,
      "outputs": []
    },
    {
      "cell_type": "code",
      "metadata": {
        "id": "3kW6JieQ03qe"
      },
      "source": [
        "plt.imshow(img2)\n",
        "plt.title('Result')\n",
        "print('Size of the image: ',img2.shape)"
      ],
      "execution_count": null,
      "outputs": []
    },
    {
      "cell_type": "code",
      "metadata": {
        "id": "l_Qf3diRLljA"
      },
      "source": [
        "#number of vertical seams: dy *2: 0 to 47\n",
        "#number of horizontal seams: dx*2: 48 - 57\n",
        "dx = img.shape[0] - 674\n",
        "dy = img.shape[1] - 1004\n",
        "fname = []\n",
        "for i in range(2*dy):\n",
        "  print('Image: ',i)\n",
        "  fname.append(image_list[i])\n",
        "  plt.imshow(image_list[i])\n",
        "  plt.show()\n",
        "\n",
        "for i in range(2*dx):\n",
        "  print('Image: ',i + 2*dy)\n",
        "  im = image_list[i + 2*dy]\n",
        "  im = np.rot90(im)\n",
        "  im = np.rot90(im)\n",
        "  im = np.rot90(im)\n",
        "  fname.append(im)\n",
        "  plt.imshow(im)\n",
        "  plt.show()"
      ],
      "execution_count": null,
      "outputs": []
    },
    {
      "cell_type": "code",
      "metadata": {
        "id": "nqeb7imfWb2u"
      },
      "source": [
        "imageio.mimsave('seam_retarget.gif',fname)"
      ],
      "execution_count": null,
      "outputs": []
    },
    {
      "cell_type": "code",
      "metadata": {
        "id": "_U31D371OVII"
      },
      "source": [
        "#number of vertical seams: dy *2: 0 to 47\n",
        "#number of horizontal seams: dx*2: 48 - 57\n",
        "print(dx,dy)"
      ],
      "execution_count": null,
      "outputs": []
    },
    {
      "cell_type": "code",
      "metadata": {
        "id": "-5jqzo9Sj7LX"
      },
      "source": [
        "#Fast seam method\n",
        "start = time()\n",
        "!python3 \"/content/drive/MyDrive/COL783/main_reduce.py\" 20 20 \n",
        "end = time()\n",
        "print('Fast seam time elapsed: ',(end - start),' seconds')"
      ],
      "execution_count": null,
      "outputs": []
    },
    {
      "cell_type": "code",
      "metadata": {
        "id": "9kJoAcjml8ws"
      },
      "source": [
        "result = plt.imread('/content/drive/MyDrive/COL783/fastseamresult.jpg')\n",
        "plt.figure(figsize=(10,10))\n",
        "plt.imshow(result)\n",
        "print('The size of image: ',result.shape)"
      ],
      "execution_count": null,
      "outputs": []
    },
    {
      "cell_type": "code",
      "metadata": {
        "id": "WwtmHi2JzRZj"
      },
      "source": [
        ""
      ],
      "execution_count": null,
      "outputs": []
    }
  ]
}