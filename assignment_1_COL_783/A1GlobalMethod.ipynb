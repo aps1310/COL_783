{
  "nbformat": 4,
  "nbformat_minor": 0,
  "metadata": {
    "colab": {
      "name": "A1GlobalMethod.ipynb",
      "provenance": []
    },
    "kernelspec": {
      "display_name": "Python 3",
      "name": "python3"
    }
  },
  "cells": [
    {
      "cell_type": "code",
      "metadata": {
        "id": "b92yWlDPHPof"
      },
      "source": [
        "import cv2\n",
        "import numpy as np\n",
        "import matplotlib.pyplot as plt\n",
        "from skimage.exposure import match_histograms\n",
        "from skimage import color\n",
        "from google.colab.patches import cv2_imshow"
      ],
      "execution_count": null,
      "outputs": []
    },
    {
      "cell_type": "code",
      "metadata": {
        "id": "RLJ37q_THVeN"
      },
      "source": [
        "def gloablmatching(source, target,num_of_samples):\n",
        "  #displaying the source and target images\n",
        "  f, axArr = plt.subplots(nrows=2,ncols=3,figsize=(10,10))\n",
        "  plt.sca(axArr[0,0])\n",
        "  plt.imshow(source)\n",
        "  plt.title('Source Image')\n",
        "  \n",
        "  plt.sca(axArr[0,1])\n",
        "  plt.imshow(target,cmap='gray')\n",
        "  plt.title('Target Image')\n",
        "\n",
        "  #converting the RBG source image to LAB form\n",
        "  LABmatrix = color.rgb2lab(source/255)\n",
        "\n",
        "  #plotting the histogram of the l values of the source image\n",
        "  plt.sca(axArr[1,0])\n",
        "  plt.hist(LABmatrix[:,:,0])\n",
        "  plt.title('Histogram: Source Image')\n",
        "\n",
        "  #plotting the histogram of the intensities of the target image\n",
        "  plt.sca(axArr[1,1])\n",
        "  plt.hist(target[:,:])\n",
        "  plt.title('Histogram: Target Image')\n",
        "\n",
        "\n",
        "  #histogram matching \n",
        "  source_lvals = match_histograms(LABmatrix[:,:,0],target)\n",
        "  LABmatrix[:,:,0] = source_lvals\n",
        "  plt.sca(axArr[1,2])\n",
        "  plt.hist(LABmatrix[:,:,0])\n",
        "  plt.title('Histogram Matching: Source Image')\n",
        "\n",
        "  #divide the image into 200 parts\n",
        "  # dividing the x axis in nx=10 parts\n",
        "  # and y axis in ny = 20 parts\n",
        "  # take a random pixel from each part\n",
        "  #The array Z stores the 200 random pixels (x,y)\n",
        "  #the array Z also stores the comparison metrix: 0.5*sd + 0.5l(x,y)\n",
        "  src = source\n",
        "  np.random.seed(42)\n",
        "  nx = 20 #number of divisions along x\n",
        "  ny = np.int(num_of_samples/20) #number of divisions along y\n",
        "  x = LABmatrix.shape[0]\n",
        "  y = LABmatrix.shape[1]\n",
        "  divx = x/nx\n",
        "  divy = y/ny\n",
        "  count = 0\n",
        "  Z = np.zeros((num_of_samples,3))\n",
        "  for i in range(nx):\n",
        "    for j in range(ny):\n",
        "      Z[count][0] = int(min(np.random.randint(i*divx,(i+1)*divx,1)+2,x-2))\n",
        "      Z[count][1] = int(min(np.random.randint(j*divy,(j+1)*divy,1)+2,y-2))\n",
        "      xcord = int(Z[count][0])\n",
        "      ycord = int(Z[count][1])\n",
        "      #Marking the selected random point\n",
        "      src = cv2.circle(src, (ycord,xcord),radius=0,color=(255,0,0),thickness=2)\n",
        "      #the comparison metric\n",
        "      Z[count][2] = 0.5*np.std(np.ravel(LABmatrix[xcord-2:xcord+2,ycord-2:ycord+2,0])) + 0.5*LABmatrix[xcord,ycord,0]\n",
        "      count = count + 1\n",
        "\n",
        "  plt.sca(axArr[0,2])\n",
        "  plt.imshow(src)\n",
        "  plt.title('Sampled Points')\n",
        "  plt.show()\n",
        "\n",
        "  #in the target image go through each pixel and compute the nbd stats with the available neighbors in 5x5 neighborhood\n",
        "  # compare it with the 200 values of the source image and choose that value for which the mod of the difference is min\n",
        "  # transfer a and b channels for the min value\n",
        "  coloured_img = np.zeros((target.shape[0],target.shape[1],3))\n",
        "  x = target.shape[0]\n",
        "  y = target.shape[1]\n",
        "  for i in range(x):\n",
        "    for j in range(y):\n",
        "      l = [] \n",
        "      for i1 in range(-2,3):\n",
        "        for j1 in range(-2,3):\n",
        "          #take the avaliable pixels for calculating the nbs stats\n",
        "          if(i+i1>=0 and j+j1>=0 and i+i1<x and j+j1<y):\n",
        "            l.append(target[int(i+i1),int(j+j1)])\n",
        "      metric = np.std(l)*0.5 + target[i,j]*0.5\n",
        "      indx = abs(Z[:,2] - metric).argmin()\n",
        "      #the l value is between 0-100, hence scale it\n",
        "      coloured_img[i,j,0] = target[i,j]*(100/255)\n",
        "      coloured_img[i,j,1] = LABmatrix[int(Z[indx][0]),int(Z[indx][1]),1]\n",
        "      coloured_img[i,j,2] = LABmatrix[int(Z[indx][0]),int(Z[indx][1]),2] \n",
        "\n",
        "  \n",
        "  #lab image to rgb img\n",
        "  result = color.lab2rgb(coloured_img)\n",
        "  return result"
      ],
      "execution_count": null,
      "outputs": []
    },
    {
      "cell_type": "code",
      "metadata": {
        "id": "JYeX19LxJ3kW"
      },
      "source": [
        "source1 = cv2.imread('source1.png')\n",
        "source1 = cv2.cvtColor(source1, cv2.COLOR_BGR2RGB)\n",
        "target1 = cv2.imread('target1.png',cv2.IMREAD_GRAYSCALE)\n",
        "result = gloablmatching(source1, target1,400)\n",
        "plt.imshow(result)\n",
        "plt.title('Final coloured image')"
      ],
      "execution_count": null,
      "outputs": []
    },
    {
      "cell_type": "code",
      "metadata": {
        "id": "Z-bdqFcWPahM"
      },
      "source": [
        "#Only for plotting results\n",
        "'''\n",
        "f, axArr = plt.subplots(nrows=1,ncols=3,figsize=(10,3))\n",
        "source1 = cv2.imread('source1.png')\n",
        "source1 = cv2.cvtColor(source1, cv2.COLOR_BGR2RGB)\n",
        "plt.sca(axArr[0])\n",
        "plt.imshow(source1,aspect='auto')\n",
        "plt.title('Source Image')\n",
        "plt.sca(axArr[1])\n",
        "target1 = cv2.imread('target1.png',cv2.IMREAD_GRAYSCALE)\n",
        "plt.imshow(target1,cmap='gray',aspect='auto')\n",
        "plt.title('Target Image')\n",
        "plt.sca(axArr[2])\n",
        "plt.imshow(result,aspect='auto')\n",
        "plt.title('Final coloured image')\n",
        "plt.show()\n",
        "'''"
      ],
      "execution_count": null,
      "outputs": []
    },
    {
      "cell_type": "code",
      "metadata": {
        "id": "7prCydKRKLKd"
      },
      "source": [
        "source2 = cv2.imread('source2.png')\n",
        "source2 = cv2.cvtColor(source2, cv2.COLOR_BGR2RGB)\n",
        "target2 = cv2.imread('target2.png',cv2.IMREAD_GRAYSCALE)\n",
        "result = gloablmatching(source2, target2,400)\n",
        "plt.imshow(result)\n",
        "plt.title('Final coloured image')"
      ],
      "execution_count": null,
      "outputs": []
    },
    {
      "cell_type": "code",
      "metadata": {
        "id": "t_Ago8cKRhQb"
      },
      "source": [
        "#Only for plotting results\n",
        "'''\n",
        "f, axArr = plt.subplots(nrows=1,ncols=3,figsize=(10,3))\n",
        "source2 = cv2.imread('source2.png')\n",
        "source2 = cv2.cvtColor(source2, cv2.COLOR_BGR2RGB)\n",
        "plt.sca(axArr[0])\n",
        "plt.imshow(source2,aspect='auto')\n",
        "plt.title('Source Image')\n",
        "plt.sca(axArr[1])\n",
        "target2 = cv2.imread('target2.png',cv2.IMREAD_GRAYSCALE)\n",
        "plt.imshow(target2,cmap='gray',aspect='auto')\n",
        "plt.title('Target Image')\n",
        "plt.sca(axArr[2])\n",
        "plt.imshow(result,aspect='auto')\n",
        "plt.title('Final coloured image')\n",
        "plt.show()\n",
        "'''"
      ],
      "execution_count": null,
      "outputs": []
    },
    {
      "cell_type": "code",
      "metadata": {
        "id": "o76XIHbMLXw9"
      },
      "source": [
        "source3 = cv2.imread('source3.png')\n",
        "source3 = cv2.cvtColor(source3, cv2.COLOR_BGR2RGB)\n",
        "target3 = cv2.imread('target3.png',cv2.IMREAD_GRAYSCALE)\n",
        "result = gloablmatching(source3, target3,400)\n",
        "plt.imshow(result)\n",
        "plt.title('Final coloured image')"
      ],
      "execution_count": null,
      "outputs": []
    },
    {
      "cell_type": "code",
      "metadata": {
        "id": "XPfQDzAkR-hP"
      },
      "source": [
        "#Only for plotting results\n",
        "'''\n",
        "f, axArr = plt.subplots(nrows=1,ncols=3,figsize=(10,3))\n",
        "source3 = cv2.imread('source3.png')\n",
        "source3 = cv2.cvtColor(source3, cv2.COLOR_BGR2RGB)\n",
        "plt.sca(axArr[0])\n",
        "plt.imshow(source3,aspect='auto')\n",
        "plt.title('Source Image')\n",
        "plt.sca(axArr[1])\n",
        "target3 = cv2.imread('target3.png',cv2.IMREAD_GRAYSCALE)\n",
        "plt.imshow(target3,cmap='gray',aspect='auto')\n",
        "plt.title('Target Image')\n",
        "plt.sca(axArr[2])\n",
        "plt.imshow(result,aspect='auto')\n",
        "plt.title('Final coloured image')\n",
        "plt.show()\n",
        "'''"
      ],
      "execution_count": null,
      "outputs": []
    },
    {
      "cell_type": "code",
      "metadata": {
        "id": "hyHhoOM-Lrc1"
      },
      "source": [
        "source4 = plt.imread('source4.jpeg')\n",
        "target4 = cv2.imread('target4.jpeg',cv2.IMREAD_GRAYSCALE)\n",
        "result = gloablmatching(source4, target4,400)\n",
        "plt.imshow(result)\n",
        "plt.title('Final coloured image')"
      ],
      "execution_count": null,
      "outputs": []
    },
    {
      "cell_type": "code",
      "metadata": {
        "id": "gf-v72YxTLLa"
      },
      "source": [
        "#Only for plotting results\n",
        "'''\n",
        "f, axArr = plt.subplots(nrows=1,ncols=3,figsize=(10,3))\n",
        "source4 = cv2.imread('source4.jpeg')\n",
        "source4 = cv2.cvtColor(source4, cv2.COLOR_BGR2RGB)\n",
        "plt.sca(axArr[0])\n",
        "plt.imshow(source4,aspect='auto')\n",
        "plt.title('Source Image')\n",
        "plt.sca(axArr[1])\n",
        "target4 = cv2.imread('target4.jpeg',cv2.IMREAD_GRAYSCALE)\n",
        "plt.imshow(target4,cmap='gray',aspect='auto')\n",
        "plt.title('Target Image')\n",
        "plt.sca(axArr[2])\n",
        "plt.imshow(result,aspect='auto')\n",
        "plt.title('Final coloured image')\n",
        "plt.show()\n",
        "'''"
      ],
      "execution_count": null,
      "outputs": []
    },
    {
      "cell_type": "code",
      "metadata": {
        "id": "n9VGd3m2TU8v"
      },
      "source": [
        ""
      ],
      "execution_count": null,
      "outputs": []
    }
  ]
}