{
  "nbformat": 4,
  "nbformat_minor": 0,
  "metadata": {
    "colab": {
      "name": "A1Swatches.ipynb",
      "provenance": []
    },
    "kernelspec": {
      "name": "python3",
      "display_name": "Python 3"
    }
  },
  "cells": [
    {
      "cell_type": "code",
      "metadata": {
        "id": "BwYisEEPAMJF"
      },
      "source": [
        "import cv2\n",
        "import numpy as np\n",
        "import matplotlib.pyplot as plt\n",
        "from skimage.exposure import match_histograms\n",
        "from skimage import color\n",
        "import time\n",
        "from google.colab.patches import cv2_imshow"
      ],
      "execution_count": null,
      "outputs": []
    },
    {
      "cell_type": "code",
      "metadata": {
        "id": "hwvBx9CVAPAH"
      },
      "source": [
        "def gloablmatching(source, target,num_of_samples):\n",
        "  #displaying the source and target images\n",
        "  f, axArr = plt.subplots(nrows=2,ncols=3,figsize=(10,10))\n",
        "  plt.sca(axArr[0,0])\n",
        "  plt.imshow(source)\n",
        "  plt.title('Source Image')\n",
        "  \n",
        "  plt.sca(axArr[0,1])\n",
        "  plt.imshow(target,cmap='gray')\n",
        "  plt.title('Target Image')\n",
        "\n",
        "  #converting the RBG source image to LAB form\n",
        "  LABmatrix = color.rgb2lab(source/255)\n",
        "\n",
        "  #plotting the histogram of the l values of the source image\n",
        "  plt.sca(axArr[1,0])\n",
        "  plt.hist(LABmatrix[:,:,0])\n",
        "  plt.title('Histogram: Source Image')\n",
        "\n",
        "  #plotting the histogram of the intensities of the target image\n",
        "  plt.sca(axArr[1,1])\n",
        "  plt.hist(target[:,:])\n",
        "  plt.title('Histogram: Target Image')\n",
        "\n",
        "\n",
        "  #histogram matching \n",
        "  source_lvals = match_histograms(LABmatrix[:,:,0],target)\n",
        "  LABmatrix[:,:,0] = source_lvals\n",
        "  plt.sca(axArr[1,2])\n",
        "  plt.hist(LABmatrix[:,:,0])\n",
        "  plt.title('Histogram Matching: Source Image')\n",
        "\n",
        "  #divide the image into 200 parts\n",
        "  # dividing the x axis in nx=10 parts\n",
        "  # and y axis in ny = 20 parts\n",
        "  # take a random pixel from each part\n",
        "  #The array Z stores the 200 random pixels (x,y)\n",
        "  #the array Z also stores the comparison metrix: 0.5*sd + 0.5l(x,y)\n",
        "  src = source\n",
        "  np.random.seed(42)\n",
        "  nx = 20 #number of divisions along x\n",
        "  ny = np.int(num_of_samples/20) #number of divisions along y\n",
        "  x = LABmatrix.shape[0]\n",
        "  y = LABmatrix.shape[1]\n",
        "  divx = x/nx\n",
        "  divy = y/ny\n",
        "  count = 0\n",
        "  Z = np.zeros((num_of_samples,3))\n",
        "  for i in range(nx):\n",
        "    for j in range(ny):\n",
        "      Z[count][0] = int(min(np.random.randint(i*divx,(i+1)*divx,1)+2,x-2))\n",
        "      Z[count][1] = int(min(np.random.randint(j*divy,(j+1)*divy,1)+2,y-2))\n",
        "      xcord = int(Z[count][0])\n",
        "      ycord = int(Z[count][1])\n",
        "      #Marking the selected random point\n",
        "      src = cv2.circle(src, (ycord,xcord),radius=0,color=(255,0,0),thickness=-1)\n",
        "      #the comparison metric\n",
        "      Z[count][2] = 0.5*np.std(np.ravel(LABmatrix[xcord-2:xcord+2,ycord-2:ycord+2,0])) + 0.5*LABmatrix[xcord,ycord,0]\n",
        "      count = count + 1\n",
        "\n",
        "  plt.sca(axArr[0,2])\n",
        "  plt.imshow(src)\n",
        "  plt.title('Sampled Points')\n",
        "  plt.show()\n",
        "\n",
        "  #in the target image go through each pixel and compute the nbd stats with the available neighbors in 5x5 neighborhood\n",
        "  # compare it with the 200 values of the source image and choose that value for which the mod of the difference is min\n",
        "  # transfer a and b channels for the min value\n",
        "  coloured_img = np.zeros((target.shape[0],target.shape[1],3))\n",
        "  x = target.shape[0]\n",
        "  y = target.shape[1]\n",
        "  for i in range(x):\n",
        "    for j in range(y):\n",
        "      l = [] \n",
        "      for i1 in range(-2,3):\n",
        "        for j1 in range(-2,3):\n",
        "          #take the avaliable pixels for calculating the nbs stats\n",
        "          if(i+i1>=0 and j+j1>=0 and i+i1<x and j+j1<y):\n",
        "            l.append(target[int(i+i1),int(j+j1)])\n",
        "      metric = np.std(l)*0.5 + target[i,j]*0.5\n",
        "      indx = abs(Z[:,2] - metric).argmin()\n",
        "      #the l value is between 0-100, hence scale it\n",
        "      coloured_img[i,j,0] = target[i,j]*(100/255)\n",
        "      coloured_img[i,j,1] = LABmatrix[int(Z[indx][0]),int(Z[indx][1]),1]\n",
        "      coloured_img[i,j,2] = LABmatrix[int(Z[indx][0]),int(Z[indx][1]),2] \n",
        "\n",
        "  \n",
        "  #lab image to rgb img\n",
        "  result = color.lab2rgb(coloured_img)\n",
        "  return result"
      ],
      "execution_count": null,
      "outputs": []
    },
    {
      "cell_type": "code",
      "metadata": {
        "id": "GkdKfQqQde4H"
      },
      "source": [
        "def swatchplot(src, target, swatchsrc, swatchtarget):\n",
        "  i = 0\n",
        "  srcimg = src.copy()\n",
        "  while i <= (len(swatchsrc) - 4):\n",
        "    x1 = swatchsrc[i]\n",
        "    y1 = swatchsrc[i+1]\n",
        "    x2 = swatchsrc[i+2]\n",
        "    y2 = swatchsrc[i+3]\n",
        "    srcimg = cv2.rectangle(srcimg, (x1,y1),(x2,y2), (255,0,0),1)\n",
        "    i = i + 4\n",
        "\n",
        "  targetimg = target.copy()\n",
        "  i = 0\n",
        "  while i <= (len(swatchtarget) - 4):\n",
        "    x1 = swatchtarget[i]\n",
        "    y1 = swatchtarget[i+1]\n",
        "    x2 = swatchtarget[i+2]\n",
        "    y2 = swatchtarget[i+3]\n",
        "    targetimg = cv2.rectangle(targetimg, (x1,y1),(x2,y2), (255,0,0),1)\n",
        "    i = i + 4\n",
        "\n",
        "  print('Plotting the Swatches')\n",
        "  f, axArr = plt.subplots(nrows=1,ncols=2,figsize=(7,3))\n",
        "  plt.sca(axArr[0])\n",
        "  plt.imshow(srcimg,aspect=\"auto\")\n",
        "  plt.title('Source Image')\n",
        "  plt.sca(axArr[1])\n",
        "  plt.imshow(targetimg,cmap='gray',aspect=\"auto\")\n",
        "  plt.title('Target Image')\n",
        "  plt.show()\n",
        "  return srcimg, targetimg"
      ],
      "execution_count": null,
      "outputs": []
    },
    {
      "cell_type": "code",
      "metadata": {
        "id": "_9qgvjjydhJj"
      },
      "source": [
        "def inSwatch(x,y,swatchtarget):\n",
        "  indx  = 0\n",
        "  while indx <= (len(swatchtarget) - 4):\n",
        "    y1 = swatchtarget[indx]\n",
        "    x1 = swatchtarget[indx+1]\n",
        "    y2 = swatchtarget[indx+2]\n",
        "    x2 = swatchtarget[indx+3]\n",
        "    indx = indx + 4\n",
        "    if (x >= x1 and x<=x2 and y>= y1 and y<=y2):\n",
        "      return True\n",
        "    \n",
        "  return False;"
      ],
      "execution_count": null,
      "outputs": []
    },
    {
      "cell_type": "code",
      "metadata": {
        "id": "uzkYvnscdkPj"
      },
      "source": [
        "def swatchlist (swatchtarget):\n",
        "  # divide the swatch into boxes of size 5 x 5\n",
        "  # list l stores the centre of each such box for each swatch\n",
        "  l = []\n",
        "  indx = 0\n",
        "  while indx <= (len(swatchtarget) - 4):\n",
        "    x1 = swatchtarget[indx]\n",
        "    y1 = swatchtarget[indx+1]\n",
        "    x2 = swatchtarget[indx+2]\n",
        "    y2 = swatchtarget[indx+3]\n",
        "    indx = indx + 4\n",
        "    #print(x1,y1,x2,y2)\n",
        "    nx = x2 - x1\n",
        "    ny = y2 - y1\n",
        "    for i in range(int(nx/5)):\n",
        "      for j in range(int(ny/5)):\n",
        "        if (x1 + 2 + i*5 < x2 and y1 + 2 + j*5 < y2):\n",
        "          l.append((x1+2+i*5,y1+2+j*5))\n",
        "  \n",
        "  return l"
      ],
      "execution_count": null,
      "outputs": []
    },
    {
      "cell_type": "code",
      "metadata": {
        "id": "WhL6zbjde9Dn"
      },
      "source": [
        "def swatchtransfer(source,target,swatchsrc,swatchtarget): \n",
        "  #print('Source Image',source.shape)\n",
        "  #print('Target Image',target.shape)\n",
        "  #print('Source Swatches',swatchsrc)\n",
        "  #print('Dest Swatches',swatchtarget)\n",
        "  #print('Transferring colors between swatches')\n",
        "  targetimage = np.zeros((target.shape[0],target.shape[1],3))\n",
        "  targetimage[:,:,0] = np.asarray(target[:,:]*(100.0/255),dtype='int')\n",
        "  #Transfer color across the swatches\n",
        "  i = 0\n",
        "  while i <= (len(swatchsrc) - 4):\n",
        "    y1src = swatchsrc[i]\n",
        "    x1src = swatchsrc[i+1]\n",
        "    y2src = swatchsrc[i+2]\n",
        "    x2src = swatchsrc[i+3]\n",
        "    y1tar = swatchtarget[i]\n",
        "    x1tar = swatchtarget[i+1]\n",
        "    y2tar = swatchtarget[i+2]\n",
        "    x2tar = swatchtarget[i+3]\n",
        "    #print('transferring between')\n",
        "    #plt.imshow(source[x1src:x2src+1,y1src:y2src+1])\n",
        "    #plt.title('source swatch')\n",
        "    #plt.show()\n",
        "    #plt.imshow(target[x1tar:x2tar+1,y1tar:y2tar+1],cmap = 'gray')\n",
        "    #plt.title('target swatch')\n",
        "    #plt.show()\n",
        "    result = gloablmatching(source[x1src:x2src+1,y1src:y2src+1],target[x1tar:x2tar+1,y1tar:y2tar+1],200)\n",
        "    #plt.imshow(result)\n",
        "    #plt.title('Swatch after matching')\n",
        "    #plt.show()\n",
        "    #need the result in lab format to compare intensity and luminisance\n",
        "    targetimage[x1tar:x2tar+1,y1tar:y2tar+1] = color.rgb2lab(result)\n",
        "    i = i + 4\n",
        "  \n",
        "  return  targetimage\n"
      ],
      "execution_count": null,
      "outputs": []
    },
    {
      "cell_type": "code",
      "metadata": {
        "id": "cadBUm2ofFCc"
      },
      "source": [
        "def swatches(source, target,swatchsrc, swatchtarget):\n",
        "  start = time.time()\n",
        "  print('Plotting Original Images')\n",
        "  f, axArr = plt.subplots(nrows=1,ncols=2,figsize=(6,3))\n",
        "  plt.sca(axArr[0])\n",
        "  plt.imshow(source,aspect=\"auto\")\n",
        "  plt.title('Source Image')\n",
        "  plt.sca(axArr[1])\n",
        "  plt.imshow(target,cmap='gray',aspect=\"auto\")\n",
        "  plt.title('Target Image')\n",
        "  plt.show()\n",
        "  swatchplot(source, target, swatchsrc, swatchtarget)\n",
        "  targetimage = swatchtransfer(source, target, swatchsrc, swatchtarget)\n",
        "  print(\"Processing...\")\n",
        "  targetimage2 = np.zeros((target.shape[0],target.shape[1],3))\n",
        "  targetimage2[:,:,0] = np.asarray(target[:,:]*(100.0/255) , dtype='int')\n",
        "  l = swatchlist(swatchtarget)\n",
        "  for i in range(targetimage.shape[0]):\n",
        "    for j in range(targetimage.shape[1]):\n",
        "      #if (not inSwatch(i,j,swatchtarget)):\n",
        "        l1 = []\n",
        "        for k in range(len(l)):\n",
        "          xcord = l[k][1]\n",
        "          ycord = l[k][0]\n",
        "          sum = 0\n",
        "          for i1 in range(-2,3):\n",
        "            for j1 in range(-2,3):\n",
        "              #taking a valid neighbor\n",
        "              if (i+i1>= 0 and i+i1 <targetimage.shape[0] and j+j1>=0 and j+j1< targetimage.shape[1]):\n",
        "                    sum = sum + (int(targetimage[xcord+i1,ycord+j1,0]) - int(targetimage2[i+i1,j+j1,0]))**2\n",
        "          l1.append(sum)\n",
        "      \n",
        "        pos = np.argmin(l1)\n",
        "        x = l[pos][1]\n",
        "        y = l[pos][0]\n",
        "        targetimage2[i,j,1] = targetimage[x,y,1]\n",
        "        targetimage2[i,j,2] = targetimage[x,y,2]\n",
        "\n",
        "  result1 = np.copy(targetimage)\n",
        "  result2 = np.copy(targetimage2)\n",
        "  #print('L channel',np.min(targetimage[:,:,0]),np.max(targetimage[:,:,0]))\n",
        "  #print('a channel',np.min(targetimage[:,:,1]),np.max(targetimage[:,:,1]))\n",
        "  #print('b channel',np.min(targetimage[:,:,2]),np.max(targetimage[:,:,2]))\n",
        "  result_rgb1 = color.lab2rgb(result1)\n",
        "  result_rgb2 = color.lab2rgb(result2)\n",
        "  end = time.time()\n",
        "  print('Time taken:',(end-start)/60)\n",
        "  plt.imshow(result_rgb2); \n",
        "  plt.title('Final Coloured Image2')\n",
        "  return result_rgb1,result_rgb2"
      ],
      "execution_count": null,
      "outputs": []
    },
    {
      "cell_type": "code",
      "metadata": {
        "id": "FNU5AcRO3fpN"
      },
      "source": [
        "#[y1,x1,y2,x2]\n",
        "source4 = plt.imread('source4.jpeg')\n",
        "target4 = cv2.imread('target4.jpeg',cv2.IMREAD_GRAYSCALE)\n",
        "_,result = swatches(source4, target4, [110,110,140,140,80,180,110,210],[110,110,140,140,220,145,250,175])"
      ],
      "execution_count": null,
      "outputs": []
    },
    {
      "cell_type": "code",
      "metadata": {
        "id": "jqwD6oAqUeRz"
      },
      "source": [
        "#Only for plotting results\n",
        "'''\n",
        "source4 = cv2.imread('source4.jpeg')\n",
        "source4 = cv2.cvtColor(source4, cv2.COLOR_BGR2RGB)\n",
        "target4 = cv2.imread('target4.jpeg',cv2.IMREAD_GRAYSCALE)\n",
        "\n",
        "srcimg, targetimg = swatchplot(source4, target4, [110,110,140,140,80,180,110,210],[110,110,140,140,220,145,250,175])\n",
        "f, axArr = plt.subplots(nrows=1,ncols=3,figsize=(10,3))\n",
        "plt.sca(axArr[0])\n",
        "plt.imshow(srcimg,aspect='auto')\n",
        "plt.title('Source Image')\n",
        "plt.sca(axArr[1])\n",
        "\n",
        "plt.imshow(targetimg,cmap='gray',aspect='auto')\n",
        "plt.title('Target Image')\n",
        "plt.sca(axArr[2])\n",
        "plt.imshow(result,aspect='auto')\n",
        "plt.title('Final coloured image')\n",
        "plt.show()\n",
        "'''"
      ],
      "execution_count": null,
      "outputs": []
    },
    {
      "cell_type": "code",
      "metadata": {
        "id": "OG8wmjFk4BT6"
      },
      "source": [
        "source3 = cv2.imread('source3.png')\n",
        "source3 = cv2.cvtColor(source3, cv2.COLOR_BGR2RGB)\n",
        "target3 = cv2.imread('target3.png',cv2.IMREAD_GRAYSCALE)\n",
        "_,result = swatches(source3, target3, [180,90,220,120],[100,40,140,70])"
      ],
      "execution_count": null,
      "outputs": []
    },
    {
      "cell_type": "code",
      "metadata": {
        "id": "Ad4jQ-_1VCSe"
      },
      "source": [
        "#Only for plotting results\n",
        "'''\n",
        "source3 = cv2.imread('source3.png')\n",
        "source3 = cv2.cvtColor(source3, cv2.COLOR_BGR2RGB)\n",
        "target3 = cv2.imread('target3.png',cv2.IMREAD_GRAYSCALE)\n",
        "\n",
        "srcimg, targetimg = swatchplot(source3, target3,[180,90,220,120],[100,40,140,70])\n",
        "f, axArr = plt.subplots(nrows=1,ncols=3,figsize=(10,3))\n",
        "plt.sca(axArr[0])\n",
        "plt.imshow(srcimg,aspect='auto')\n",
        "plt.title('Source Image')\n",
        "plt.sca(axArr[1])\n",
        "\n",
        "plt.imshow(targetimg,cmap='gray',aspect='auto')\n",
        "plt.title('Target Image')\n",
        "plt.sca(axArr[2])\n",
        "plt.imshow(result,aspect='auto')\n",
        "plt.title('Final coloured image')\n",
        "plt.show()\n",
        "'''"
      ],
      "execution_count": null,
      "outputs": []
    },
    {
      "cell_type": "code",
      "metadata": {
        "id": "F6y89iKw4ROz"
      },
      "source": [
        "source2 = cv2.imread('source2.png')\n",
        "source2 = cv2.cvtColor(source2, cv2.COLOR_BGR2RGB)\n",
        "target2 = cv2.imread('target2.png',cv2.IMREAD_GRAYSCALE)\n",
        "_,result = swatches(source2, target2, [100,35,130,70,130,110,170,140],[10,25,40,55,130,110,170,140])"
      ],
      "execution_count": null,
      "outputs": []
    },
    {
      "cell_type": "code",
      "metadata": {
        "id": "TOBj87czXcir"
      },
      "source": [
        "#Only for plotting results\n",
        "'''\n",
        "source2 = cv2.imread('source2.png')\n",
        "source2 = cv2.cvtColor(source2, cv2.COLOR_BGR2RGB)\n",
        "target2 = cv2.imread('target2.png',cv2.IMREAD_GRAYSCALE)\n",
        "\n",
        "srcimg, targetimg = swatchplot(source2, target2, [100,35,130,70,130,110,170,140],[10,25,40,55,130,110,170,140])\n",
        "f, axArr = plt.subplots(nrows=1,ncols=3,figsize=(10,3))\n",
        "plt.sca(axArr[0])\n",
        "plt.imshow(srcimg,aspect='auto')\n",
        "plt.title('Source Image')\n",
        "plt.sca(axArr[1])\n",
        "\n",
        "plt.imshow(targetimg,cmap='gray',aspect='auto')\n",
        "plt.title('Target Image')\n",
        "plt.sca(axArr[2])\n",
        "plt.imshow(result,aspect='auto')\n",
        "plt.title('Final coloured image')\n",
        "plt.show()\n",
        "'''"
      ],
      "execution_count": null,
      "outputs": []
    },
    {
      "cell_type": "code",
      "metadata": {
        "id": "XXM8XmU54X2S"
      },
      "source": [
        "source1 = cv2.imread('source1.png')\n",
        "source1 = cv2.cvtColor(source1, cv2.COLOR_BGR2RGB)\n",
        "target1 = cv2.imread('target1.png',cv2.IMREAD_GRAYSCALE)\n",
        "_,result = swatches(source1, target1, [50,50,100,100,170,140,200,170], [50,50,100,100,50,140,100,170])"
      ],
      "execution_count": null,
      "outputs": []
    },
    {
      "cell_type": "code",
      "metadata": {
        "id": "eb00hJDZYI0O"
      },
      "source": [
        "#Only for plotting results\n",
        "'''\n",
        "source1 = cv2.imread('source1.png')\n",
        "source1 = cv2.cvtColor(source1, cv2.COLOR_BGR2RGB)\n",
        "target1 = cv2.imread('target1.png',cv2.IMREAD_GRAYSCALE)\n",
        "\n",
        "srcimg, targetimg = swatchplot(source1, target1, [50,50,100,100,170,140,200,170], [50,50,100,100,50,140,100,170])\n",
        "f, axArr = plt.subplots(nrows=1,ncols=3,figsize=(10,3))\n",
        "plt.sca(axArr[0])\n",
        "plt.imshow(srcimg,aspect='auto')\n",
        "plt.title('Source Image')\n",
        "plt.sca(axArr[1])\n",
        "\n",
        "plt.imshow(targetimg,cmap='gray',aspect='auto')\n",
        "plt.title('Target Image')\n",
        "plt.sca(axArr[2])\n",
        "plt.imshow(result,aspect='auto')\n",
        "plt.title('Final coloured image')\n",
        "plt.show()'''"
      ],
      "execution_count": null,
      "outputs": []
    },
    {
      "cell_type": "code",
      "metadata": {
        "id": "DKKJOXAJ2ICS"
      },
      "source": [
        "#codes to get swatches interactively from the user\n",
        "def onclick(event): \n",
        "    print('clicked')\n",
        "    global coordinates\n",
        "    if(len(coordinates)>=2):\n",
        "        coordinates = []\n",
        "    coordinates.append((event.xdata, event.ydata))\n",
        "    global ax\n",
        "    plt.plot(event.xdata, event.ydata, marker='v', color=\"red\")\n",
        "    #print(\"button=%f, x=%f, y=%f, xdata=%f, ydata=%f\" % ( \n",
        "    #     event.button, event.x, event.y, event.xdata, event.ydata)) "
      ],
      "execution_count": null,
      "outputs": []
    },
    {
      "cell_type": "code",
      "metadata": {
        "id": "ssHWvk-5FxMu"
      },
      "source": [
        "#select swatch function\r\n",
        "def selectSourceSwatch(source):\r\n",
        "    %matplotlib notebook\r\n",
        "    print('Select Source Swatch')\r\n",
        "    coordinates = []\r\n",
        "    fig, ax = plt.subplots(figsize=(10, 6))\r\n",
        "\r\n",
        "    plt.imshow(source)\r\n",
        "    cid = fig.canvas.mpl_connect('button_press_event', onclick) \r\n",
        "    plt.show() \r\n",
        "    swatchsrc = coordinates\r\n",
        "    return swatchsrc\r\n",
        "    \r\n",
        "def selectTargetSwatch(target):\r\n",
        "    %matplotlib notebook\r\n",
        "    print('Select Target Swatch')\r\n",
        "    coordinates = []\r\n",
        "    fig, ax = plt.subplots(figsize=(10, 6))\r\n",
        "\r\n",
        "    plt.imshow(target)\r\n",
        "    cid = fig.canvas.mpl_connect('button_press_event', onclick) \r\n",
        "    plt.show() \r\n",
        "    \r\n",
        "    swatchtarget = coordinates\r\n",
        "    return swatchtarget  "
      ],
      "execution_count": null,
      "outputs": []
    },
    {
      "cell_type": "code",
      "metadata": {
        "id": "jM5jDIGm3Bt1"
      },
      "source": [
        "#img = plt.imread(\"Documents\\A1images1\\A1images\\source4.jpeg\")\r\n",
        "#selectSourceSwatch(img)"
      ],
      "execution_count": null,
      "outputs": []
    },
    {
      "cell_type": "code",
      "metadata": {
        "id": "86LgX6OjMgLS"
      },
      "source": [
        "#swatchsrc = coordinates\r\n",
        "#print(swatchsrc)"
      ],
      "execution_count": null,
      "outputs": []
    },
    {
      "cell_type": "code",
      "metadata": {
        "id": "fRXH-Zquo75X"
      },
      "source": [
        "#selectTargetSwatch(img)"
      ],
      "execution_count": null,
      "outputs": []
    },
    {
      "cell_type": "code",
      "metadata": {
        "id": "3Co7YNo9o-Ac"
      },
      "source": [
        "#swatchTarget = coordinates\r\n",
        "#print(swatchTarget)"
      ],
      "execution_count": null,
      "outputs": []
    }
  ]
}